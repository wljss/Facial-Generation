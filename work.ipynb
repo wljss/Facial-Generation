{
 "cells": [
  {
   "cell_type": "code",
   "execution_count": null,
   "id": "e1723d5f",
   "metadata": {},
   "outputs": [],
   "source": [
    "import os\n",
    "from PIL import Image\n",
    "from torch.utils.data import Dataset,DataLoader\n",
    "class Face(Dataset):\n",
    "    def __init__(self, root):\n",
    "        imgs = os.listdir(root) #这里存的不是所有图片，是图片的路径，在调用__getitem__的时候才会加载图片\n",
    "        self.imgs = [os.path.join(root,img) for img in imgs] #路径拼接\n",
    "\n",
    "    def __len__(self):\n",
    "        return len(self.imgs)\n",
    "\n",
    "    def __getitem__(self, idx):\n",
    "        img_path = self.imgs[idx] #根据路径返回图片\n",
    "        data = Image.open(img_path)\n",
    "        return data"
   ]
  }
 ],
 "metadata": {
  "kernelspec": {
   "display_name": "jqxx",
   "language": "python",
   "name": "python3"
  },
  "language_info": {
   "name": "python",
   "version": "3.7.16"
  }
 },
 "nbformat": 4,
 "nbformat_minor": 5
}
