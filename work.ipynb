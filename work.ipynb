{
 "cells": [
  {
   "cell_type": "code",
   "execution_count": null,
   "id": "e1723d5f",
   "metadata": {},
   "outputs": [],
   "source": [
    "#面部图片Dataset\n",
    "import os\n",
    "from PIL import Image\n",
    "from torch.utils.data import Dataset,DataLoader\n",
    "class Face(Dataset):\n",
    "    def __init__(self, root):\n",
    "        imgs = os.listdir(root) #这里存的不是所有图片，是图片的路径，在调用__getitem__的时候才会加载图片\n",
    "        self.imgs = [os.path.join(root,img) for img in imgs] #路径拼接\n",
    "\n",
    "    def __len__(self):\n",
    "        return len(self.imgs)\n",
    "\n",
    "    def __getitem__(self, idx):\n",
    "        img_path = self.imgs[idx] #根据路径返回图片\n",
    "        data = Image.open(img_path)\n",
    "        return data"
   ]
  },
  {
   "cell_type": "code",
   "execution_count": null,
   "id": "49b143bc",
   "metadata": {},
   "outputs": [],
   "source": [
    "#生成器网络\n",
    "import torch.nn as nn\n",
    "class Generator(nn.Module):\n",
    "    def __init__(self):\n",
    "        pass\n",
    "    def forward(self, z):\n",
    "        pass"
   ]
  },
  {
   "cell_type": "code",
   "execution_count": null,
   "id": "de526ff2",
   "metadata": {},
   "outputs": [],
   "source": [
    "#判别器网络\n",
    "class Discriminator():\n",
    "    def __init__(self):\n",
    "        pass\n",
    "    def forward(self, z):\n",
    "        pass"
   ]
  },
  {
   "cell_type": "code",
   "execution_count": null,
   "id": "344e9570",
   "metadata": {},
   "outputs": [],
   "source": [
    "import argparse# 配置参数\n",
    "parser = argparse.ArgumentParser()#创建一个对象 下面是设置各种参数\n",
    "parser.add_argument(\"--epochs\", type=int, default=200, help=\"number of epochs of training\")\n",
    "parser.add_argument(\"--batch_size\", type=int, default=64, help=\"size of the batches\")\n",
    "parser.add_argument(\"--lr\", type=float, default=0.0002, help=\"learning rate\")\n",
    "opt = parser.parse_args()"
   ]
  },
  {
   "cell_type": "code",
   "execution_count": null,
   "id": "52b6d9a3",
   "metadata": {},
   "outputs": [],
   "source": [
    "import torch\n",
    "if __name__ == '__main__':\n",
    "    device = torch.device(\"cuda\" if torch.cuda.is_available() else \"cpu\")#设备\n",
    "    print('当前device为' + str(device))\n",
    "\n",
    "    generator = Generator().to(device)#生成器\n",
    "    discriminator = Discriminator().to(device)#判别器\n",
    "    adversarial_loss = torch.nn.BCELoss().to(device)#损失函数\n",
    "\n",
    "    optimizer_G = torch.optim.Adam(generator.parameters(), lr=opt.lr, betas=(opt.b1, opt.b2))#优化器\n",
    "    optimizer_D = torch.optim.Adam(discriminator.parameters(), lr=opt.lr, betas=(opt.b1, opt.b2))#优化器\n"
   ]
  }
 ],
 "metadata": {
  "kernelspec": {
   "display_name": "jqxx",
   "language": "python",
   "name": "python3"
  },
  "language_info": {
   "name": "python",
   "version": "3.7.16"
  }
 },
 "nbformat": 4,
 "nbformat_minor": 5
}
