{
 "cells": [
  {
   "cell_type": "code",
   "execution_count": null,
   "id": "856fc44e",
   "metadata": {},
   "outputs": [],
   "source": [
    "#配置参数\n",
    "import argparse\n",
    "parser = argparse.ArgumentParser()#创建一个对象 下面是设置各种参数\n",
    "parser.add_argument(\"--epochs\", type=int, default=200, help=\"number of epochs of training\")\n",
    "parser.add_argument(\"--batch_size\", type=int, default=64, help=\"size of the batches\")\n",
    "parser.add_argument(\"--lr\", type=float, default=0.0002, help=\"learning rate\")\n",
    "opt = parser.parse_args()"
   ]
  },
  {
   "cell_type": "code",
   "execution_count": null,
   "id": "e1723d5f",
   "metadata": {},
   "outputs": [],
   "source": [
    "#面部图片Dataset\n",
    "import os\n",
    "from PIL import Image\n",
    "from torch.utils.data import Dataset,DataLoader\n",
    "class Face(Dataset):\n",
    "    def __init__(self, root, transforms=None):\n",
    "        imgs = os.listdir(root) #这里存的不是所有图片，是图片的路径，在调用__getitem__的时候才会加载图片\n",
    "        self.imgs = [os.path.join(root,img) for img in imgs] #路径拼接\n",
    "\n",
    "        self.transforms = transforms #对图片进行一些调整操作\n",
    "\n",
    "    def __len__(self):\n",
    "        return len(self.imgs)\n",
    "\n",
    "    def __getitem__(self, idx):\n",
    "        img_path = self.imgs[idx] #根据路径返回图片\n",
    "        data = Image.open(img_path)\n",
    "        if self.transforms:\n",
    "            data=self.transforms(data)\n",
    "        return data"
   ]
  },
  {
   "cell_type": "code",
   "execution_count": null,
   "id": "49b143bc",
   "metadata": {},
   "outputs": [],
   "source": [
    "#生成器网络，接收随机噪声作为输入，生成逼真的图像。\n",
    "import torch.nn as nn\n",
    "class Generator(nn.Module):\n",
    "    def __init__(self):\n",
    "        super().__init__()\n",
    "    def forward(self, z):\n",
    "        pass"
   ]
  },
  {
   "cell_type": "code",
   "execution_count": null,
   "id": "de526ff2",
   "metadata": {},
   "outputs": [],
   "source": [
    "ndf = 64 #通道数，这里设置的有点大有待研究\n",
    "#判别器网络，尝试区分真实的图像和生成器生成的图像\n",
    "class Discriminator():\n",
    "    def __init__(self):\n",
    "        super().__init__()\n",
    "\n",
    "        #输入大小为3 * 64 * 64\n",
    "        self.model = nn.Sequential( #Sequential是一个模块容器，用了这个就不用再写一遍向前传播了 \n",
    "            nn.Conv2d(3, ndf, 4, 2, 1, bias=False), #前5个参数分别是输入通道数，输出通道数，卷积核大小，卷积核每次移动多少个像素，原图片边缘加几个空白像素\n",
    "            nn.LeakyReLU(0.2, inplace=True), #激活函数,inplace=True直接修改原数据\n",
    "            #输出大小为 (ndf) * 32 * 32 。这里有个计算公式 输出尺寸 = (输入尺寸 + 2*填充 - 卷积核大小) / 步长 + 1，除法是向下取整\n",
    "\n",
    "            nn.Conv2d(ndf, ndf * 2, 4, 2, 1, bias=False),\n",
    "            nn.BatchNorm2d(ndf * 2), #百度的：进行数据归一化处理，使数据在Relu之前不会因为数据过大导致网络性能不稳定\n",
    "            nn.LeakyReLU(0.2, inplace=True),\n",
    "            #输出大小为 (ndf*2) * 16 * 16\n",
    "\n",
    "            nn.Conv2d(ndf * 2, ndf * 4, 4, 2, 1, bias=False),\n",
    "            nn.BatchNorm2d(ndf * 2), \n",
    "            nn.LeakyReLU(0.2, inplace=True),\n",
    "            #输出大小为  (ndf*4) * 8 * 8\n",
    "\n",
    "            nn.Conv2d(ndf * 4, ndf * 8, 4, 2, 1, bias=False),\n",
    "            nn.BatchNorm2d(ndf * 2),\n",
    "            nn.LeakyReLU(0.2, inplace=True),\n",
    "            #输出大小为 (ndf*8) * 4 * 4\n",
    "\n",
    "            nn.Conv2d(ndf * 8, 1, 4, 1, 0, bias=False),\n",
    "            nn.Sigmoid() #激活函数，输出0到1之间的概率\n",
    "        )\n",
    "    def forward(self, img):\n",
    "        return self.model(img)"
   ]
  },
  {
   "cell_type": "code",
   "execution_count": null,
   "id": "56d018a2",
   "metadata": {},
   "outputs": [],
   "source": [
    "#加载数据集\n",
    "FaceData = Face('./img_align_celeba', transforms=tfm)\n",
    "data_loader = DataLoader(FaceData,batch_size=opt.batch_size,shuffle=True)#数据读取"
   ]
  },
  {
   "cell_type": "code",
   "execution_count": null,
   "id": "52b6d9a3",
   "metadata": {},
   "outputs": [],
   "source": [
    "import torch\n",
    "if __name__ == '__main__':\n",
    "    device = torch.device(\"cuda\" if torch.cuda.is_available() else \"cpu\")#设备\n",
    "    print('当前device为' + str(device))\n",
    "\n",
    "    generator = Generator().to(device) #生成器\n",
    "    discriminator = Discriminator().to(device) #判别器\n",
    "    adversarial_loss = torch.nn.BCELoss().to(device) #损失函数\n",
    "\n",
    "    optimizer_G = torch.optim.Adam(generator.parameters(), lr=opt.lr ) #优化器\n",
    "    optimizer_D = torch.optim.Adam(discriminator.parameters(), lr=opt.lr ) #优化器\n",
    "\n",
    "    os.makedirs(\"generated-facial-images\", exist_ok=True) #创建存储生成图片的目录，exist_ok=True就可以让文件夹存在的时候也不会报错\n",
    "\n",
    "    #开始训练\n",
    "    for epoch in range(opt.epochs):\n",
    "        for imgs in data_loader:\n",
    "            pass"
   ]
  }
 ],
 "metadata": {
  "kernelspec": {
   "display_name": "jqxx",
   "language": "python",
   "name": "python3"
  },
  "language_info": {
   "name": "python",
   "version": "3.7.16"
  }
 },
 "nbformat": 4,
 "nbformat_minor": 5
}
